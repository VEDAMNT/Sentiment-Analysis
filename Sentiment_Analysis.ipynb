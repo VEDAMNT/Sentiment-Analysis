{
  "nbformat": 4,
  "nbformat_minor": 0,
  "metadata": {
    "colab": {
      "provenance": [],
      "authorship_tag": "ABX9TyPe1TK/yDrgSmEDOAKJFKcr",
      "include_colab_link": true
    },
    "kernelspec": {
      "name": "python3",
      "display_name": "Python 3"
    },
    "language_info": {
      "name": "python"
    }
  },
  "cells": [
    {
      "cell_type": "markdown",
      "metadata": {
        "id": "view-in-github",
        "colab_type": "text"
      },
      "source": [
        "<a href=\"https://colab.research.google.com/github/VEDAMNT/Sentiment-Analysis/blob/main/Sentiment_Analysis.ipynb\" target=\"_parent\"><img src=\"https://colab.research.google.com/assets/colab-badge.svg\" alt=\"Open In Colab\"/></a>"
      ]
    },
    {
      "cell_type": "code",
      "execution_count": null,
      "metadata": {
        "id": "uvGE8QeNE8n4"
      },
      "outputs": [],
      "source": [
        "from textblob import TextBlob\n"
      ]
    },
    {
      "cell_type": "markdown",
      "source": [],
      "metadata": {
        "id": "bd-ciu3oSkH1"
      }
    },
    {
      "cell_type": "code",
      "source": [
        "def sentiment_analysis(text):\n",
        "    # Create a TextBlob object\n",
        "    blob = TextBlob(text)\n",
        "\n",
        "    polar = blob.sentiment.polarity\n",
        "\n",
        "    # Classifing the sentiment based on the polarity score\n",
        "    if polar > 0:\n",
        "        return \"positive\"\n",
        "    elif polar < 0:\n",
        "        return \"negative\"\n",
        "    else:\n",
        "        return \"neutral\"\n",
        "\n",
        "    blob = TextBlob(text)\n",
        "    sentiment = blob.sentiment\n",
        "\n",
        "    if sentiment.polarity > 0:\n",
        "      return \"Positive Sentiment\"\n",
        "    elif sentiment.polarity < 0:\n",
        "      return \"Negative Sentiment\"\n",
        "    else:\n",
        "      return \"Neutral Sentiment\"\n"
      ],
      "metadata": {
        "id": "FI17s1-kFLad"
      },
      "execution_count": null,
      "outputs": []
    },
    {
      "cell_type": "code",
      "source": [
        "\n",
        "text = input(\"ENTER YOUR REVIEW OR ANY LOGICAL SENTENCE : \")\n",
        "\n",
        "# Analyze sentiment\n",
        "sentiment = sentiment_analysis(text)\n",
        "\n",
        "print(f\"The sentiment of the text is: {sentiment}\")"
      ],
      "metadata": {
        "colab": {
          "base_uri": "https://localhost:8080/"
        },
        "id": "npnVQzoJGtD9",
        "outputId": "e44d0446-e8fd-42c1-ca98-7cc70b6c9e92"
      },
      "execution_count": null,
      "outputs": [
        {
          "output_type": "stream",
          "name": "stdout",
          "text": [
            "ENTER YOUR REVIEW OR ANY LOGICAL SENTENCE : are you stupid\n",
            "The sentiment of the text is: negative\n"
          ]
        }
      ]
    }
  ]
}